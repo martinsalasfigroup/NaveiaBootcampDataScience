{
 "cells": [
  {
   "cell_type": "code",
   "execution_count": 1,
   "id": "f9f53d4d",
   "metadata": {},
   "outputs": [],
   "source": [
    "# Importar las librerías necesarias\n",
    "import pickle"
   ]
  },
  {
   "cell_type": "code",
   "execution_count": 2,
   "id": "33766283",
   "metadata": {},
   "outputs": [],
   "source": [
    "# Cargar los datos de test desde el archivo pickle\n",
    "with open(\"files/datos_test.pkl\", \"rb\") as f:\n",
    "    datos_test = pickle.load(f)\n",
    "\n",
    "X_test = datos_test['X']\n",
    "kaggle_submission_xgb = datos_test['kaggle_submission']\n",
    "kaggle_submission_lgbm = datos_test['kaggle_submission']"
   ]
  },
  {
   "cell_type": "code",
   "execution_count": 3,
   "id": "0466f001",
   "metadata": {},
   "outputs": [],
   "source": [
    "# Cargar el modelo XGB entrenado desde el archivo pickle\n",
    "with open(\"files/model_xgb.pkl\", \"rb\") as f:\n",
    "    model_xgb = pickle.load(f)\n",
    "\n",
    "# Obtener predicciones (0 o 1)\n",
    "predicciones = model_xgb.predict(X_test)\n",
    "# Probabilidades (entre 0 y 1)\n",
    "probabilidades = model_xgb.predict_proba(X_test)[:, 1]"
   ]
  },
  {
   "cell_type": "code",
   "execution_count": 4,
   "id": "d01f10fa",
   "metadata": {},
   "outputs": [],
   "source": [
    "kaggle_submission_xgb[\"HasDetections\"] = probabilidades\n",
    "kaggle_submission_xgb.to_csv(\"datasets/predicciones_modelo_xgb.csv\", index=False)"
   ]
  },
  {
   "cell_type": "code",
   "execution_count": 5,
   "id": "519fbbd6",
   "metadata": {},
   "outputs": [
    {
     "name": "stdout",
     "output_type": "stream",
     "text": [
      "[LightGBM] [Warning] feature_fraction is set=0.5, colsample_bytree=0.6000000000000001 will be ignored. Current value: feature_fraction=0.5\n",
      "[LightGBM] [Warning] bagging_fraction is set=0.6500000000000001, subsample=1.0 will be ignored. Current value: bagging_fraction=0.6500000000000001\n",
      "[LightGBM] [Warning] feature_fraction is set=0.5, colsample_bytree=0.6000000000000001 will be ignored. Current value: feature_fraction=0.5\n",
      "[LightGBM] [Warning] bagging_fraction is set=0.6500000000000001, subsample=1.0 will be ignored. Current value: bagging_fraction=0.6500000000000001\n"
     ]
    }
   ],
   "source": [
    "# Cargar el modelo XGB entrenado desde el archivo pickle\n",
    "with open(\"files/model_lgbm.pkl\", \"rb\") as f:\n",
    "    model_lgbm = pickle.load(f)\n",
    "\n",
    "# Obtener predicciones (0 o 1)\n",
    "predicciones = model_lgbm.predict(X_test)\n",
    "# Probabilidades (entre 0 y 1)\n",
    "probabilidades = model_lgbm.predict_proba(X_test)[:, 1]"
   ]
  },
  {
   "cell_type": "code",
   "execution_count": 6,
   "id": "e1f02749",
   "metadata": {},
   "outputs": [],
   "source": [
    "kaggle_submission_lgbm[\"HasDetections\"] = probabilidades\n",
    "kaggle_submission_lgbm.to_csv(\"datasets/predicciones_modelo_lgbm.csv\", index=False)"
   ]
  }
 ],
 "metadata": {
  "kernelspec": {
   "display_name": ".venv",
   "language": "python",
   "name": "python3"
  },
  "language_info": {
   "codemirror_mode": {
    "name": "ipython",
    "version": 3
   },
   "file_extension": ".py",
   "mimetype": "text/x-python",
   "name": "python",
   "nbconvert_exporter": "python",
   "pygments_lexer": "ipython3",
   "version": "3.11.9"
  }
 },
 "nbformat": 4,
 "nbformat_minor": 5
}
